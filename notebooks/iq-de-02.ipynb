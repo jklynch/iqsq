{
 "cells": [
  {
   "cell_type": "code",
   "execution_count": 1,
   "id": "2688b0d7-f407-45f4-9962-5c9f9d3bfe0d",
   "metadata": {},
   "outputs": [],
   "source": [
    "import matplotlib.pyplot as plt\n",
    "import numpy as np\n",
    "import pandas as pd\n",
    "from scipy.spatial.distance import cdist\n",
    "\n",
    "import iqsq\n",
    "from iqsq import (\n",
    "    iq_cpu_naive,\n",
    "    iq_cpu_opt_1,\n",
    "    iq_gpu_naive,\n",
    "    iq_gpu_opt_1,\n",
    "    iq_gpu_opt_2,\n",
    "    q_constants\n",
    ")\n"
   ]
  },
  {
   "cell_type": "code",
   "execution_count": 2,
   "id": "161bd401-dec2-4121-b7ff-b08eee0efc0e",
   "metadata": {},
   "outputs": [
    {
     "data": {
      "text/html": [
       "<div>\n",
       "<style scoped>\n",
       "    .dataframe tbody tr th:only-of-type {\n",
       "        vertical-align: middle;\n",
       "    }\n",
       "\n",
       "    .dataframe tbody tr th {\n",
       "        vertical-align: top;\n",
       "    }\n",
       "\n",
       "    .dataframe thead th {\n",
       "        text-align: right;\n",
       "    }\n",
       "</style>\n",
       "<table border=\"1\" class=\"dataframe\">\n",
       "  <thead>\n",
       "    <tr style=\"text-align: right;\">\n",
       "      <th></th>\n",
       "      <th>0</th>\n",
       "      <th>1</th>\n",
       "      <th>2</th>\n",
       "      <th>3</th>\n",
       "      <th>4</th>\n",
       "      <th>5</th>\n",
       "      <th>6</th>\n",
       "      <th>7</th>\n",
       "      <th>8</th>\n",
       "    </tr>\n",
       "    <tr>\n",
       "      <th>0</th>\n",
       "      <th></th>\n",
       "      <th></th>\n",
       "      <th></th>\n",
       "      <th></th>\n",
       "      <th></th>\n",
       "      <th></th>\n",
       "      <th></th>\n",
       "      <th></th>\n",
       "      <th></th>\n",
       "    </tr>\n",
       "  </thead>\n",
       "  <tbody>\n",
       "    <tr>\n",
       "      <th>H</th>\n",
       "      <td>0.489918</td>\n",
       "      <td>20.659300</td>\n",
       "      <td>0.262003</td>\n",
       "      <td>7.74039</td>\n",
       "      <td>0.196767</td>\n",
       "      <td>49.5519</td>\n",
       "      <td>0.049879</td>\n",
       "      <td>2.20159</td>\n",
       "      <td>0.001305</td>\n",
       "    </tr>\n",
       "    <tr>\n",
       "      <th>H1-</th>\n",
       "      <td>0.897661</td>\n",
       "      <td>53.136800</td>\n",
       "      <td>0.565616</td>\n",
       "      <td>15.18700</td>\n",
       "      <td>0.415815</td>\n",
       "      <td>186.5760</td>\n",
       "      <td>0.116973</td>\n",
       "      <td>3.56709</td>\n",
       "      <td>0.002389</td>\n",
       "    </tr>\n",
       "    <tr>\n",
       "      <th>He</th>\n",
       "      <td>0.873400</td>\n",
       "      <td>9.103700</td>\n",
       "      <td>0.630900</td>\n",
       "      <td>3.35680</td>\n",
       "      <td>0.311200</td>\n",
       "      <td>22.9276</td>\n",
       "      <td>0.178000</td>\n",
       "      <td>0.98210</td>\n",
       "      <td>0.006400</td>\n",
       "    </tr>\n",
       "    <tr>\n",
       "      <th>Li</th>\n",
       "      <td>1.128200</td>\n",
       "      <td>3.954600</td>\n",
       "      <td>0.750800</td>\n",
       "      <td>1.05240</td>\n",
       "      <td>0.617500</td>\n",
       "      <td>85.3905</td>\n",
       "      <td>0.465300</td>\n",
       "      <td>168.26100</td>\n",
       "      <td>0.037700</td>\n",
       "    </tr>\n",
       "    <tr>\n",
       "      <th>Li1+</th>\n",
       "      <td>0.696800</td>\n",
       "      <td>4.623700</td>\n",
       "      <td>0.788800</td>\n",
       "      <td>1.95570</td>\n",
       "      <td>0.341400</td>\n",
       "      <td>0.6316</td>\n",
       "      <td>0.156300</td>\n",
       "      <td>10.09530</td>\n",
       "      <td>0.016700</td>\n",
       "    </tr>\n",
       "    <tr>\n",
       "      <th>...</th>\n",
       "      <td>...</td>\n",
       "      <td>...</td>\n",
       "      <td>...</td>\n",
       "      <td>...</td>\n",
       "      <td>...</td>\n",
       "      <td>...</td>\n",
       "      <td>...</td>\n",
       "      <td>...</td>\n",
       "      <td>...</td>\n",
       "    </tr>\n",
       "    <tr>\n",
       "      <th>Pu6+</th>\n",
       "      <td>35.173600</td>\n",
       "      <td>0.473204</td>\n",
       "      <td>22.718100</td>\n",
       "      <td>2.73848</td>\n",
       "      <td>14.763500</td>\n",
       "      <td>11.5530</td>\n",
       "      <td>2.286780</td>\n",
       "      <td>20.93030</td>\n",
       "      <td>13.058200</td>\n",
       "    </tr>\n",
       "    <tr>\n",
       "      <th>Am</th>\n",
       "      <td>36.670600</td>\n",
       "      <td>0.483629</td>\n",
       "      <td>24.099200</td>\n",
       "      <td>3.20647</td>\n",
       "      <td>17.341500</td>\n",
       "      <td>14.3136</td>\n",
       "      <td>3.493310</td>\n",
       "      <td>102.27300</td>\n",
       "      <td>13.359200</td>\n",
       "    </tr>\n",
       "    <tr>\n",
       "      <th>Cm</th>\n",
       "      <td>36.648800</td>\n",
       "      <td>0.465154</td>\n",
       "      <td>24.409600</td>\n",
       "      <td>3.08997</td>\n",
       "      <td>17.399000</td>\n",
       "      <td>13.4346</td>\n",
       "      <td>4.216650</td>\n",
       "      <td>88.48340</td>\n",
       "      <td>13.288700</td>\n",
       "    </tr>\n",
       "    <tr>\n",
       "      <th>Bk</th>\n",
       "      <td>36.788100</td>\n",
       "      <td>0.451018</td>\n",
       "      <td>24.773600</td>\n",
       "      <td>3.04619</td>\n",
       "      <td>17.891900</td>\n",
       "      <td>12.8946</td>\n",
       "      <td>4.232840</td>\n",
       "      <td>86.00300</td>\n",
       "      <td>13.275400</td>\n",
       "    </tr>\n",
       "    <tr>\n",
       "      <th>Cf</th>\n",
       "      <td>36.918500</td>\n",
       "      <td>0.437533</td>\n",
       "      <td>25.199500</td>\n",
       "      <td>3.00775</td>\n",
       "      <td>18.331700</td>\n",
       "      <td>12.4044</td>\n",
       "      <td>4.243910</td>\n",
       "      <td>83.78810</td>\n",
       "      <td>13.267400</td>\n",
       "    </tr>\n",
       "  </tbody>\n",
       "</table>\n",
       "<p>211 rows × 9 columns</p>\n",
       "</div>"
      ],
      "text/plain": [
       "              0          1          2         3          4         5  \\\n",
       "0                                                                      \n",
       "H      0.489918  20.659300   0.262003   7.74039   0.196767   49.5519   \n",
       "H1-    0.897661  53.136800   0.565616  15.18700   0.415815  186.5760   \n",
       "He     0.873400   9.103700   0.630900   3.35680   0.311200   22.9276   \n",
       "Li     1.128200   3.954600   0.750800   1.05240   0.617500   85.3905   \n",
       "Li1+   0.696800   4.623700   0.788800   1.95570   0.341400    0.6316   \n",
       "...         ...        ...        ...       ...        ...       ...   \n",
       "Pu6+  35.173600   0.473204  22.718100   2.73848  14.763500   11.5530   \n",
       "Am    36.670600   0.483629  24.099200   3.20647  17.341500   14.3136   \n",
       "Cm    36.648800   0.465154  24.409600   3.08997  17.399000   13.4346   \n",
       "Bk    36.788100   0.451018  24.773600   3.04619  17.891900   12.8946   \n",
       "Cf    36.918500   0.437533  25.199500   3.00775  18.331700   12.4044   \n",
       "\n",
       "             6          7          8  \n",
       "0                                     \n",
       "H     0.049879    2.20159   0.001305  \n",
       "H1-   0.116973    3.56709   0.002389  \n",
       "He    0.178000    0.98210   0.006400  \n",
       "Li    0.465300  168.26100   0.037700  \n",
       "Li1+  0.156300   10.09530   0.016700  \n",
       "...        ...        ...        ...  \n",
       "Pu6+  2.286780   20.93030  13.058200  \n",
       "Am    3.493310  102.27300  13.359200  \n",
       "Cm    4.216650   88.48340  13.288700  \n",
       "Bk    4.232840   86.00300  13.275400  \n",
       "Cf    4.243910   83.78810  13.267400  \n",
       "\n",
       "[211 rows x 9 columns]"
      ]
     },
     "execution_count": 2,
     "metadata": {},
     "output_type": "execute_result"
    }
   ],
   "source": [
    "scattering_factors_df = iqsq.build_scattering_factors_table(\n",
    "    aff_elements_fp='GrSqf_cal_AP_Oct27/aff_elementonly.txt',\n",
    "    aff_parameters_fp='GrSqf_cal_AP_Oct27/aff_parmonly.txt'\n",
    ")\n",
    "scattering_factors_df"
   ]
  },
  {
   "cell_type": "code",
   "execution_count": 3,
   "id": "e0638eb3-9518-46a7-b351-d13a1ac429b5",
   "metadata": {},
   "outputs": [],
   "source": [
    "%load_ext line_profiler"
   ]
  },
  {
   "cell_type": "code",
   "execution_count": 4,
   "id": "8578d5ce-2ebf-4819-a428-bb5a336bc4b5",
   "metadata": {},
   "outputs": [],
   "source": [
    "atom_positions_df = iqsq.read_atom_positions(\n",
    "    atom_positions_path=\"~/project/iq-on-gpu/data-20230605/5IrC_r5b.xyz\",\n",
    "    header=1,\n",
    "    names=[\"x\", \"y\", \"z\"],\n",
    "    index_col=0,\n",
    "    delim_whitespace=True\n",
    ")\n",
    "atom_distance_matrix_df = iqsq.build_atom_distance_matrix(atom_positions_df)"
   ]
  },
  {
   "cell_type": "code",
   "execution_count": 5,
   "id": "0bfa7f00-3660-43d2-a4c7-dd8b937d7c56",
   "metadata": {},
   "outputs": [],
   "source": [
    "# runs for ~1.8 seconds on bmo\n",
    "# atom_positions_df = iqsq.read_atom_positions(atom_positions_path=\"GrSqf_cal_AP_Oct27/Ni(OH)2-109391-ICSD-10x10x1.xyz\")\n",
    "# atom_distance_matrix_df = iqsq.build_atom_distance_matrix(atom_positions_df)\n",
    "# %lprun -f iq_gpu_opt_1.calculate_iq \\\n",
    "#     iq_gpu_opt_1.calculate_iq( \\\n",
    "#         scattering_factors_df=sf_df, \\\n",
    "#         atom_distance_matrix_df=atom_distance_matrix_df, \\\n",
    "#         qmin=0.01, \\\n",
    "#         qmax=30, \\\n",
    "#         qstep=0.01 \\\n",
    "#     )"
   ]
  },
  {
   "cell_type": "code",
   "execution_count": 6,
   "id": "8210ee3c-ade6-464c-8c79-c632d524f719",
   "metadata": {},
   "outputs": [
    {
     "data": {
      "text/plain": [
       "Ir    1.994748\n",
       "O     1.994748\n",
       "O     1.994748\n",
       "O     1.998288\n",
       "O     1.998288\n",
       "O     1.998415\n",
       "O     2.000090\n",
       "Ir    1.982764\n",
       "O     1.982764\n",
       "O     1.983547\n",
       "O     1.998481\n",
       "O     1.997455\n",
       "Ir    1.983893\n",
       "O     1.998288\n",
       "O     1.998288\n",
       "O     1.978655\n",
       "Ir    1.986588\n",
       "O     1.999155\n",
       "O     1.999944\n",
       "O     1.994748\n",
       "O     1.995455\n",
       "O     1.983893\n",
       "Ir    1.978655\n",
       "O     1.999036\n",
       "O     1.999027\n",
       "O     1.998288\n",
       "O     1.999078\n",
       "dtype: float64"
      ]
     },
     "execution_count": 6,
     "metadata": {},
     "output_type": "execute_result"
    }
   ],
   "source": [
    "# in preparation for perturbing the atom positions\n",
    "# find the minimum distance between atoms\n",
    "atom_distance_matrix_df[atom_distance_matrix_df > 0].min()"
   ]
  },
  {
   "cell_type": "code",
   "execution_count": 7,
   "id": "72dfcb21-6709-4273-98fd-295e1431a92e",
   "metadata": {},
   "outputs": [
    {
     "data": {
      "text/html": [
       "<div>\n",
       "<style scoped>\n",
       "    .dataframe tbody tr th:only-of-type {\n",
       "        vertical-align: middle;\n",
       "    }\n",
       "\n",
       "    .dataframe tbody tr th {\n",
       "        vertical-align: top;\n",
       "    }\n",
       "\n",
       "    .dataframe thead th {\n",
       "        text-align: right;\n",
       "    }\n",
       "</style>\n",
       "<table border=\"1\" class=\"dataframe\">\n",
       "  <thead>\n",
       "    <tr style=\"text-align: right;\">\n",
       "      <th></th>\n",
       "      <th>x</th>\n",
       "      <th>y</th>\n",
       "      <th>z</th>\n",
       "    </tr>\n",
       "  </thead>\n",
       "  <tbody>\n",
       "    <tr>\n",
       "      <th>Ir</th>\n",
       "      <td>4.514</td>\n",
       "      <td>4.516</td>\n",
       "      <td>6.228</td>\n",
       "    </tr>\n",
       "    <tr>\n",
       "      <th>O</th>\n",
       "      <td>5.924</td>\n",
       "      <td>5.927</td>\n",
       "      <td>6.228</td>\n",
       "    </tr>\n",
       "    <tr>\n",
       "      <th>O</th>\n",
       "      <td>3.103</td>\n",
       "      <td>3.106</td>\n",
       "      <td>6.228</td>\n",
       "    </tr>\n",
       "    <tr>\n",
       "      <th>O</th>\n",
       "      <td>3.648</td>\n",
       "      <td>5.382</td>\n",
       "      <td>7.807</td>\n",
       "    </tr>\n",
       "    <tr>\n",
       "      <th>O</th>\n",
       "      <td>5.380</td>\n",
       "      <td>3.650</td>\n",
       "      <td>7.807</td>\n",
       "    </tr>\n",
       "    <tr>\n",
       "      <th>O</th>\n",
       "      <td>3.595</td>\n",
       "      <td>5.415</td>\n",
       "      <td>4.698</td>\n",
       "    </tr>\n",
       "    <tr>\n",
       "      <th>O</th>\n",
       "      <td>5.414</td>\n",
       "      <td>3.596</td>\n",
       "      <td>4.697</td>\n",
       "    </tr>\n",
       "    <tr>\n",
       "      <th>Ir</th>\n",
       "      <td>4.505</td>\n",
       "      <td>4.505</td>\n",
       "      <td>3.159</td>\n",
       "    </tr>\n",
       "    <tr>\n",
       "      <th>O</th>\n",
       "      <td>5.907</td>\n",
       "      <td>5.907</td>\n",
       "      <td>3.171</td>\n",
       "    </tr>\n",
       "    <tr>\n",
       "      <th>O</th>\n",
       "      <td>3.103</td>\n",
       "      <td>3.103</td>\n",
       "      <td>3.216</td>\n",
       "    </tr>\n",
       "    <tr>\n",
       "      <th>O</th>\n",
       "      <td>5.413</td>\n",
       "      <td>3.596</td>\n",
       "      <td>1.628</td>\n",
       "    </tr>\n",
       "    <tr>\n",
       "      <th>O</th>\n",
       "      <td>3.604</td>\n",
       "      <td>5.406</td>\n",
       "      <td>1.619</td>\n",
       "    </tr>\n",
       "    <tr>\n",
       "      <th>Ir</th>\n",
       "      <td>4.512</td>\n",
       "      <td>4.498</td>\n",
       "      <td>0.089</td>\n",
       "    </tr>\n",
       "    <tr>\n",
       "      <th>O</th>\n",
       "      <td>3.646</td>\n",
       "      <td>5.364</td>\n",
       "      <td>-1.490</td>\n",
       "    </tr>\n",
       "    <tr>\n",
       "      <th>O</th>\n",
       "      <td>5.378</td>\n",
       "      <td>3.632</td>\n",
       "      <td>-1.490</td>\n",
       "    </tr>\n",
       "    <tr>\n",
       "      <th>O</th>\n",
       "      <td>5.914</td>\n",
       "      <td>5.900</td>\n",
       "      <td>0.009</td>\n",
       "    </tr>\n",
       "    <tr>\n",
       "      <th>Ir</th>\n",
       "      <td>2.267</td>\n",
       "      <td>2.268</td>\n",
       "      <td>1.619</td>\n",
       "    </tr>\n",
       "    <tr>\n",
       "      <th>O</th>\n",
       "      <td>1.400</td>\n",
       "      <td>1.401</td>\n",
       "      <td>0.040</td>\n",
       "    </tr>\n",
       "    <tr>\n",
       "      <th>O</th>\n",
       "      <td>1.400</td>\n",
       "      <td>1.401</td>\n",
       "      <td>3.199</td>\n",
       "    </tr>\n",
       "    <tr>\n",
       "      <th>O</th>\n",
       "      <td>0.856</td>\n",
       "      <td>3.678</td>\n",
       "      <td>1.619</td>\n",
       "    </tr>\n",
       "    <tr>\n",
       "      <th>O</th>\n",
       "      <td>3.678</td>\n",
       "      <td>0.857</td>\n",
       "      <td>1.619</td>\n",
       "    </tr>\n",
       "    <tr>\n",
       "      <th>O</th>\n",
       "      <td>3.110</td>\n",
       "      <td>3.096</td>\n",
       "      <td>0.021</td>\n",
       "    </tr>\n",
       "    <tr>\n",
       "      <th>Ir</th>\n",
       "      <td>6.752</td>\n",
       "      <td>6.752</td>\n",
       "      <td>1.586</td>\n",
       "    </tr>\n",
       "    <tr>\n",
       "      <th>O</th>\n",
       "      <td>5.329</td>\n",
       "      <td>8.156</td>\n",
       "      <td>1.586</td>\n",
       "    </tr>\n",
       "    <tr>\n",
       "      <th>O</th>\n",
       "      <td>8.174</td>\n",
       "      <td>5.347</td>\n",
       "      <td>1.586</td>\n",
       "    </tr>\n",
       "    <tr>\n",
       "      <th>O</th>\n",
       "      <td>7.618</td>\n",
       "      <td>7.618</td>\n",
       "      <td>0.007</td>\n",
       "    </tr>\n",
       "    <tr>\n",
       "      <th>O</th>\n",
       "      <td>7.618</td>\n",
       "      <td>7.618</td>\n",
       "      <td>3.166</td>\n",
       "    </tr>\n",
       "  </tbody>\n",
       "</table>\n",
       "</div>"
      ],
      "text/plain": [
       "        x      y      z\n",
       "Ir  4.514  4.516  6.228\n",
       "O   5.924  5.927  6.228\n",
       "O   3.103  3.106  6.228\n",
       "O   3.648  5.382  7.807\n",
       "O   5.380  3.650  7.807\n",
       "O   3.595  5.415  4.698\n",
       "O   5.414  3.596  4.697\n",
       "Ir  4.505  4.505  3.159\n",
       "O   5.907  5.907  3.171\n",
       "O   3.103  3.103  3.216\n",
       "O   5.413  3.596  1.628\n",
       "O   3.604  5.406  1.619\n",
       "Ir  4.512  4.498  0.089\n",
       "O   3.646  5.364 -1.490\n",
       "O   5.378  3.632 -1.490\n",
       "O   5.914  5.900  0.009\n",
       "Ir  2.267  2.268  1.619\n",
       "O   1.400  1.401  0.040\n",
       "O   1.400  1.401  3.199\n",
       "O   0.856  3.678  1.619\n",
       "O   3.678  0.857  1.619\n",
       "O   3.110  3.096  0.021\n",
       "Ir  6.752  6.752  1.586\n",
       "O   5.329  8.156  1.586\n",
       "O   8.174  5.347  1.586\n",
       "O   7.618  7.618  0.007\n",
       "O   7.618  7.618  3.166"
      ]
     },
     "execution_count": 7,
     "metadata": {},
     "output_type": "execute_result"
    }
   ],
   "source": [
    "atom_positions_df"
   ]
  },
  {
   "cell_type": "code",
   "execution_count": 8,
   "id": "081e7b09-1c0d-43e5-9820-76521c3bda51",
   "metadata": {},
   "outputs": [],
   "source": [
    "# perturb the atom locations slightly to create a new set of atom positions\n",
    "rng = np.random.default_rng()\n",
    "perturbed_atom_positions_df = atom_positions_df + rng.normal(scale=0.1, size=atom_positions_df.shape)\n",
    "perturbed_atom_distance_matrix_df = iqsq.build_atom_distance_matrix(perturbed_atom_positions_df)"
   ]
  },
  {
   "cell_type": "code",
   "execution_count": 9,
   "id": "1389e08a-fb5e-43f1-a553-1496ad72de93",
   "metadata": {},
   "outputs": [],
   "source": [
    "qIq = iq_gpu_opt_2.calculate_iq(\n",
    "    scattering_factors_df=scattering_factors_df,\n",
    "    atom_distance_matrix_df=atom_distance_matrix_df,\n",
    "    qmin=0.01,\n",
    "    qmax=30,\n",
    "    qstep=0.01\n",
    ")"
   ]
  },
  {
   "cell_type": "code",
   "execution_count": 10,
   "id": "82787989-2b14-42db-b0c1-74d6a212cd71",
   "metadata": {},
   "outputs": [
    {
     "data": {
      "text/plain": [
       "[<matplotlib.lines.Line2D at 0x7fe48556e170>]"
      ]
     },
     "execution_count": 10,
     "metadata": {},
     "output_type": "execute_result"
    },
    {
     "data": {
      "image/png": "[encoded data removed]",
      "text/plain": [
       "<Figure size 640x480 with 1 Axes>"
      ]
     },
     "metadata": {},
     "output_type": "display_data"
    }
   ],
   "source": [
    "plt.plot(qIq[:,0],np.log10(qIq[:,1]))"
   ]
  },
  {
   "cell_type": "code",
   "execution_count": 11,
   "id": "d91e47e7-5eed-4883-9ba7-c763eacc4d5e",
   "metadata": {},
   "outputs": [],
   "source": [
    "perturbed_qIq = iq_gpu_opt_2.calculate_iq(\n",
    "    scattering_factors_df=scattering_factors_df,\n",
    "    atom_distance_matrix_df=perturbed_atom_distance_matrix_df,\n",
    "    qmin=0.01,\n",
    "    qmax=30,\n",
    "    qstep=0.01\n",
    ")"
   ]
  },
  {
   "cell_type": "code",
   "execution_count": 12,
   "id": "95ea1bb5-9a33-4119-8423-524e541490bb",
   "metadata": {},
   "outputs": [
    {
     "data": {
      "text/plain": [
       "[<matplotlib.lines.Line2D at 0x7fe47d48c370>]"
      ]
     },
     "execution_count": 12,
     "metadata": {},
     "output_type": "execute_result"
    },
    {
     "data": {
      "image/png": "[encoded data removed]",
      "text/plain": [
       "<Figure size 640x480 with 1 Axes>"
      ]
     },
     "metadata": {},
     "output_type": "display_data"
    }
   ],
   "source": [
    "plt.plot(perturbed_qIq[:,0],np.log10(perturbed_qIq[:,1]))"
   ]
  },
  {
   "cell_type": "code",
   "execution_count": 13,
   "id": "76da02c3-08d8-46ee-9f80-5f29da30fd93",
   "metadata": {},
   "outputs": [],
   "source": [
    "experimental_qIq_df = pd.read_table(\n",
    "    filepath_or_buffer=\"/home/jlynch/project/iq-on-gpu/data-20230605/A_0p303V-1_modified.chi\",\n",
    "    header=None\n",
    ")"
   ]
  },
  {
   "cell_type": "code",
   "execution_count": 14,
   "id": "55c0298b-29a6-407c-a808-f5ea8ed35035",
   "metadata": {},
   "outputs": [
    {
     "data": {
      "text/html": [
       "<div>\n",
       "<style scoped>\n",
       "    .dataframe tbody tr th:only-of-type {\n",
       "        vertical-align: middle;\n",
       "    }\n",
       "\n",
       "    .dataframe tbody tr th {\n",
       "        vertical-align: top;\n",
       "    }\n",
       "\n",
       "    .dataframe thead th {\n",
       "        text-align: right;\n",
       "    }\n",
       "</style>\n",
       "<table border=\"1\" class=\"dataframe\">\n",
       "  <thead>\n",
       "    <tr style=\"text-align: right;\">\n",
       "      <th></th>\n",
       "      <th>0</th>\n",
       "      <th>1</th>\n",
       "    </tr>\n",
       "  </thead>\n",
       "  <tbody>\n",
       "    <tr>\n",
       "      <th>0</th>\n",
       "      <td>0.80836</td>\n",
       "      <td>5295.62887</td>\n",
       "    </tr>\n",
       "    <tr>\n",
       "      <th>1</th>\n",
       "      <td>0.81976</td>\n",
       "      <td>5172.88821</td>\n",
       "    </tr>\n",
       "    <tr>\n",
       "      <th>2</th>\n",
       "      <td>0.83117</td>\n",
       "      <td>5064.56519</td>\n",
       "    </tr>\n",
       "    <tr>\n",
       "      <th>3</th>\n",
       "      <td>0.84257</td>\n",
       "      <td>4966.40648</td>\n",
       "    </tr>\n",
       "    <tr>\n",
       "      <th>4</th>\n",
       "      <td>0.85398</td>\n",
       "      <td>4875.16761</td>\n",
       "    </tr>\n",
       "    <tr>\n",
       "      <th>...</th>\n",
       "      <td>...</td>\n",
       "      <td>...</td>\n",
       "    </tr>\n",
       "    <tr>\n",
       "      <th>2863</th>\n",
       "      <td>33.46305</td>\n",
       "      <td>-520.31250</td>\n",
       "    </tr>\n",
       "    <tr>\n",
       "      <th>2864</th>\n",
       "      <td>33.47445</td>\n",
       "      <td>-510.43750</td>\n",
       "    </tr>\n",
       "    <tr>\n",
       "      <th>2865</th>\n",
       "      <td>33.48586</td>\n",
       "      <td>-499.18750</td>\n",
       "    </tr>\n",
       "    <tr>\n",
       "      <th>2866</th>\n",
       "      <td>33.49727</td>\n",
       "      <td>-494.31250</td>\n",
       "    </tr>\n",
       "    <tr>\n",
       "      <th>2867</th>\n",
       "      <td>33.50867</td>\n",
       "      <td>-494.68750</td>\n",
       "    </tr>\n",
       "  </tbody>\n",
       "</table>\n",
       "<p>2868 rows × 2 columns</p>\n",
       "</div>"
      ],
      "text/plain": [
       "             0           1\n",
       "0      0.80836  5295.62887\n",
       "1      0.81976  5172.88821\n",
       "2      0.83117  5064.56519\n",
       "3      0.84257  4966.40648\n",
       "4      0.85398  4875.16761\n",
       "...        ...         ...\n",
       "2863  33.46305  -520.31250\n",
       "2864  33.47445  -510.43750\n",
       "2865  33.48586  -499.18750\n",
       "2866  33.49727  -494.31250\n",
       "2867  33.50867  -494.68750\n",
       "\n",
       "[2868 rows x 2 columns]"
      ]
     },
     "execution_count": 14,
     "metadata": {},
     "output_type": "execute_result"
    }
   ],
   "source": [
    "experimental_qIq_df"
   ]
  },
  {
   "cell_type": "code",
   "execution_count": 15,
   "id": "87cce109-a14c-4d06-917f-cd7246ebd274",
   "metadata": {},
   "outputs": [],
   "source": [
    "experimental_qIq = experimental_qIq_df.to_numpy()"
   ]
  },
  {
   "cell_type": "code",
   "execution_count": 16,
   "id": "42e384d9-ecfc-45ea-b3ab-1d775c38467a",
   "metadata": {},
   "outputs": [
    {
     "data": {
      "text/plain": [
       "(2868, 2)"
      ]
     },
     "execution_count": 16,
     "metadata": {},
     "output_type": "execute_result"
    }
   ],
   "source": [
    "experimental_qIq.shape"
   ]
  },
  {
   "cell_type": "code",
   "execution_count": 17,
   "id": "58bcab33-5f8f-42d7-8257-8c27e597e434",
   "metadata": {},
   "outputs": [
    {
     "data": {
      "text/plain": [
       "[<matplotlib.lines.Line2D at 0x7fe47cb4e740>]"
      ]
     },
     "execution_count": 17,
     "metadata": {},
     "output_type": "execute_result"
    },
    {
     "data": {
      "image/png": "[encoded data removed]",
      "text/plain": [
       "<Figure size 640x480 with 1 Axes>"
      ]
     },
     "metadata": {},
     "output_type": "display_data"
    }
   ],
   "source": [
    "plt.plot(experimental_qIq[:1500,0],np.log10(experimental_qIq[:1500,1]))"
   ]
  },
  {
   "cell_type": "code",
   "execution_count": 18,
   "id": "10b15cd5-1161-4525-9856-dbfc3e9a809e",
   "metadata": {},
   "outputs": [
    {
     "data": {
      "text/plain": [
       "[<matplotlib.lines.Line2D at 0x7fe47cbd68f0>]"
      ]
     },
     "execution_count": 18,
     "metadata": {},
     "output_type": "execute_result"
    },
    {
     "data": {
      "image/png": "[encoded data removed]",
      "text/plain": [
       "<Figure size 640x480 with 1 Axes>"
      ]
     },
     "metadata": {},
     "output_type": "display_data"
    }
   ],
   "source": [
    "f = plt.figure()\n",
    "ax = f.add_subplot(1, 1, 1)\n",
    "ax.plot(experimental_qIq[:1500,0],np.log10(experimental_qIq[:1500,1]))\n",
    "ax.plot(qIq[:,0],np.log10(qIq[:,1]))"
   ]
  },
  {
   "cell_type": "code",
   "execution_count": 26,
   "id": "fc4f40be-351d-421b-b83a-75f2628008af",
   "metadata": {},
   "outputs": [
    {
     "data": {
      "text/plain": [
       "3.551508440972723"
      ]
     },
     "execution_count": 26,
     "metadata": {},
     "output_type": "execute_result"
    }
   ],
   "source": [
    "np.mean(np.log10(qIq[:, 1]))"
   ]
  },
  {
   "cell_type": "code",
   "execution_count": null,
   "id": "9806da44-4ab0-484d-b35c-2e74838d06f7",
   "metadata": {},
   "outputs": [],
   "source": [
    "use the experimental q values to calcualate I(q)\n",
    "pick a range of q values\n",
    "subtract the respective means\n",
    "do theory and experiment line up better?"
   ]
  },
  {
   "cell_type": "code",
   "execution_count": 28,
   "id": "fcad6edb-424c-4cda-81d8-c7f91503c9bd",
   "metadata": {},
   "outputs": [
    {
     "data": {
      "text/plain": [
       "[<matplotlib.lines.Line2D at 0x7fe474c6c4f0>]"
      ]
     },
     "execution_count": 28,
     "metadata": {},
     "output_type": "execute_result"
    },
    {
     "data": {
      "image/png": "[encoded data removed]",
      "text/plain": [
       "<Figure size 640x480 with 1 Axes>"
      ]
     },
     "metadata": {},
     "output_type": "display_data"
    }
   ],
   "source": [
    "f = plt.figure()\n",
    "ax = f.add_subplot(1, 1, 1)\n",
    "ax.plot(experimental_qIq[:1500,0],np.log10(experimental_qIq[:1500,1])- np.mean(np.log10(experimental_qIq[:1500,1])))\n",
    "ax.plot(qIq[:,0],np.log10(qIq[:,1]) - np.mean(np.log10(qIq[:,1])))"
   ]
  },
  {
   "cell_type": "code",
   "execution_count": 21,
   "id": "f33972aa-6191-4773-a1e9-b5cb58d18a4e",
   "metadata": {},
   "outputs": [],
   "source": [
    "from scipy.spatial.distance import euclidean\n",
    "\n",
    "perturbed_atom_positions = perturbed_atom_positions_df.to_numpy()\n",
    "\n",
    "def Iq_cost(x, *args, return_qIq=False):\n",
    "    _atom_positions_deltas = np.reshape(x, perturbed_atom_positions_df.shape)\n",
    "    _atom_positions_df = perturbed_atom_positions_df + _atom_positions_deltas\n",
    "    _atom_distance_matrix_df = iqsq.build_atom_distance_matrix(_atom_positions_df)\n",
    "    _qIq = iq_gpu_opt_2.calculate_iq(\n",
    "        scattering_factors_df=scattering_factors_df,\n",
    "        atom_distance_matrix_df=_atom_distance_matrix_df,\n",
    "        qmin=0.01,\n",
    "        qmax=30,\n",
    "        qstep=0.01\n",
    "    )\n",
    "\n",
    "    cost = euclidean(np.log(_qIq[:,1]), np.log(qIq[:,1]))\n",
    "    #print(f\"Iq_cost: {cost}\")\n",
    "\n",
    "    if return_qIq:\n",
    "        return cost, _qIq\n",
    "    else:\n",
    "        return cost"
   ]
  },
  {
   "cell_type": "code",
   "execution_count": 22,
   "id": "1d96e6a0-4a1f-4b0f-aef0-3b4a287dfd88",
   "metadata": {},
   "outputs": [],
   "source": [
    "def display_best_cost(xk, convergence):\n",
    "    cost, qIq = Iq_cost(xk, return_qIq=True)\n",
    "    # this is displayed when disp=True\n",
    "    #print(f\"best cost so far: {cost}\")\n",
    "    plt.plot(qIq[:,0],np.log10(qIq[:,1]))"
   ]
  },
  {
   "cell_type": "code",
   "execution_count": 23,
   "id": "bb4cd392-c96a-4cf8-8cf5-e56b9d7cc373",
   "metadata": {
    "scrolled": true
   },
   "outputs": [
    {
     "name": "stdout",
     "output_type": "stream",
     "text": [
      "parameter count: 81\n"
     ]
    },
    {
     "ename": "KeyboardInterrupt",
     "evalue": "",
     "output_type": "error",
     "traceback": [
      "\u001b[0;31m---------------------------------------------------------------------------\u001b[0m",
      "\u001b[0;31mKeyboardInterrupt\u001b[0m                         Traceback (most recent call last)",
      "Cell \u001b[0;32mIn[23], line 5\u001b[0m\n\u001b[1;32m      3\u001b[0m parameter_count \u001b[38;5;241m=\u001b[39m atom_positions_df\u001b[38;5;241m.\u001b[39mshape[\u001b[38;5;241m0\u001b[39m] \u001b[38;5;241m*\u001b[39m atom_positions_df\u001b[38;5;241m.\u001b[39mshape[\u001b[38;5;241m1\u001b[39m]\n\u001b[1;32m      4\u001b[0m \u001b[38;5;28mprint\u001b[39m(\u001b[38;5;124mf\u001b[39m\u001b[38;5;124m\"\u001b[39m\u001b[38;5;124mparameter count: \u001b[39m\u001b[38;5;132;01m{\u001b[39;00mparameter_count\u001b[38;5;132;01m}\u001b[39;00m\u001b[38;5;124m\"\u001b[39m)\n\u001b[0;32m----> 5\u001b[0m de_result \u001b[38;5;241m=\u001b[39m \u001b[43mdifferential_evolution\u001b[49m\u001b[43m(\u001b[49m\n\u001b[1;32m      6\u001b[0m \u001b[43m    \u001b[49m\u001b[43mfunc\u001b[49m\u001b[38;5;241;43m=\u001b[39;49m\u001b[43mIq_cost\u001b[49m\u001b[43m,\u001b[49m\n\u001b[1;32m      7\u001b[0m \u001b[43m    \u001b[49m\u001b[43mbounds\u001b[49m\u001b[38;5;241;43m=\u001b[39;49m\u001b[43m[\u001b[49m\u001b[43m(\u001b[49m\u001b[38;5;241;43m-\u001b[39;49m\u001b[38;5;241;43m0.25\u001b[39;49m\u001b[43m,\u001b[49m\u001b[43m \u001b[49m\u001b[38;5;241;43m0.25\u001b[39;49m\u001b[43m)\u001b[49m\u001b[43m \u001b[49m\u001b[38;5;28;43;01mfor\u001b[39;49;00m\u001b[43m \u001b[49m\u001b[43mi\u001b[49m\u001b[43m \u001b[49m\u001b[38;5;129;43;01min\u001b[39;49;00m\u001b[43m \u001b[49m\u001b[38;5;28;43mrange\u001b[39;49m\u001b[43m(\u001b[49m\u001b[43mparameter_count\u001b[49m\u001b[43m)\u001b[49m\u001b[43m]\u001b[49m\u001b[43m,\u001b[49m\n\u001b[1;32m      8\u001b[0m \u001b[43m    \u001b[49m\u001b[43mpopsize\u001b[49m\u001b[38;5;241;43m=\u001b[39;49m\u001b[38;5;241;43m2\u001b[39;49m\u001b[43m,\u001b[49m\n\u001b[1;32m      9\u001b[0m \u001b[43m    \u001b[49m\u001b[43mpolish\u001b[49m\u001b[38;5;241;43m=\u001b[39;49m\u001b[38;5;28;43;01mFalse\u001b[39;49;00m\u001b[43m,\u001b[49m\n\u001b[1;32m     10\u001b[0m \u001b[43m    \u001b[49m\u001b[43mdisp\u001b[49m\u001b[38;5;241;43m=\u001b[39;49m\u001b[38;5;28;43;01mTrue\u001b[39;49;00m\u001b[43m,\u001b[49m\n\u001b[1;32m     11\u001b[0m \u001b[43m    \u001b[49m\u001b[43mcallback\u001b[49m\u001b[38;5;241;43m=\u001b[39;49m\u001b[43mdisplay_best_cost\u001b[49m\u001b[43m,\u001b[49m\n\u001b[1;32m     12\u001b[0m \u001b[43m    \u001b[49m\u001b[43mmaxiter\u001b[49m\u001b[38;5;241;43m=\u001b[39;49m\u001b[38;5;241;43m1000\u001b[39;49m\n\u001b[1;32m     13\u001b[0m \u001b[43m)\u001b[49m\n",
      "File \u001b[0;32m~/miniconda3/envs/iqsq/lib/python3.10/site-packages/scipy/optimize/_differentialevolution.py:329\u001b[0m, in \u001b[0;36mdifferential_evolution\u001b[0;34m(func, bounds, args, strategy, maxiter, popsize, tol, mutation, recombination, seed, callback, disp, polish, init, atol, updating, workers, constraints, x0)\u001b[0m\n\u001b[1;32m    314\u001b[0m \u001b[38;5;66;03m# using a context manager means that any created Pool objects are\u001b[39;00m\n\u001b[1;32m    315\u001b[0m \u001b[38;5;66;03m# cleared up.\u001b[39;00m\n\u001b[1;32m    316\u001b[0m \u001b[38;5;28;01mwith\u001b[39;00m DifferentialEvolutionSolver(func, bounds, args\u001b[38;5;241m=\u001b[39margs,\n\u001b[1;32m    317\u001b[0m                                  strategy\u001b[38;5;241m=\u001b[39mstrategy,\n\u001b[1;32m    318\u001b[0m                                  maxiter\u001b[38;5;241m=\u001b[39mmaxiter,\n\u001b[0;32m   (...)\u001b[0m\n\u001b[1;32m    327\u001b[0m                                  constraints\u001b[38;5;241m=\u001b[39mconstraints,\n\u001b[1;32m    328\u001b[0m                                  x0\u001b[38;5;241m=\u001b[39mx0) \u001b[38;5;28;01mas\u001b[39;00m solver:\n\u001b[0;32m--> 329\u001b[0m     ret \u001b[38;5;241m=\u001b[39m \u001b[43msolver\u001b[49m\u001b[38;5;241;43m.\u001b[39;49m\u001b[43msolve\u001b[49m\u001b[43m(\u001b[49m\u001b[43m)\u001b[49m\n\u001b[1;32m    331\u001b[0m \u001b[38;5;28;01mreturn\u001b[39;00m ret\n",
      "File \u001b[0;32m~/miniconda3/envs/iqsq/lib/python3.10/site-packages/scipy/optimize/_differentialevolution.py:852\u001b[0m, in \u001b[0;36mDifferentialEvolutionSolver.solve\u001b[0;34m(self)\u001b[0m\n\u001b[1;32m    849\u001b[0m \u001b[38;5;28;01mfor\u001b[39;00m nit \u001b[38;5;129;01min\u001b[39;00m \u001b[38;5;28mrange\u001b[39m(\u001b[38;5;241m1\u001b[39m, \u001b[38;5;28mself\u001b[39m\u001b[38;5;241m.\u001b[39mmaxiter \u001b[38;5;241m+\u001b[39m \u001b[38;5;241m1\u001b[39m):\n\u001b[1;32m    850\u001b[0m     \u001b[38;5;66;03m# evolve the population by a generation\u001b[39;00m\n\u001b[1;32m    851\u001b[0m     \u001b[38;5;28;01mtry\u001b[39;00m:\n\u001b[0;32m--> 852\u001b[0m         \u001b[38;5;28;43mnext\u001b[39;49m\u001b[43m(\u001b[49m\u001b[38;5;28;43mself\u001b[39;49m\u001b[43m)\u001b[49m\n\u001b[1;32m    853\u001b[0m     \u001b[38;5;28;01mexcept\u001b[39;00m \u001b[38;5;167;01mStopIteration\u001b[39;00m:\n\u001b[1;32m    854\u001b[0m         warning_flag \u001b[38;5;241m=\u001b[39m \u001b[38;5;28;01mTrue\u001b[39;00m\n",
      "File \u001b[0;32m~/miniconda3/envs/iqsq/lib/python3.10/site-packages/scipy/optimize/_differentialevolution.py:1169\u001b[0m, in \u001b[0;36mDifferentialEvolutionSolver.__next__\u001b[0;34m(self)\u001b[0m\n\u001b[1;32m   1167\u001b[0m     feasible \u001b[38;5;241m=\u001b[39m \u001b[38;5;28;01mTrue\u001b[39;00m\n\u001b[1;32m   1168\u001b[0m     cv \u001b[38;5;241m=\u001b[39m np\u001b[38;5;241m.\u001b[39matleast_2d([\u001b[38;5;241m0.\u001b[39m])\n\u001b[0;32m-> 1169\u001b[0m     energy \u001b[38;5;241m=\u001b[39m \u001b[38;5;28;43mself\u001b[39;49m\u001b[38;5;241;43m.\u001b[39;49m\u001b[43mfunc\u001b[49m\u001b[43m(\u001b[49m\u001b[43mparameters\u001b[49m\u001b[43m)\u001b[49m\n\u001b[1;32m   1170\u001b[0m     \u001b[38;5;28mself\u001b[39m\u001b[38;5;241m.\u001b[39m_nfev \u001b[38;5;241m+\u001b[39m\u001b[38;5;241m=\u001b[39m \u001b[38;5;241m1\u001b[39m\n\u001b[1;32m   1172\u001b[0m \u001b[38;5;66;03m# compare trial and population member\u001b[39;00m\n",
      "File \u001b[0;32m~/miniconda3/envs/iqsq/lib/python3.10/site-packages/scipy/_lib/_util.py:407\u001b[0m, in \u001b[0;36m_FunctionWrapper.__call__\u001b[0;34m(self, x)\u001b[0m\n\u001b[1;32m    406\u001b[0m \u001b[38;5;28;01mdef\u001b[39;00m \u001b[38;5;21m__call__\u001b[39m(\u001b[38;5;28mself\u001b[39m, x):\n\u001b[0;32m--> 407\u001b[0m     \u001b[38;5;28;01mreturn\u001b[39;00m \u001b[38;5;28;43mself\u001b[39;49m\u001b[38;5;241;43m.\u001b[39;49m\u001b[43mf\u001b[49m\u001b[43m(\u001b[49m\u001b[43mx\u001b[49m\u001b[43m,\u001b[49m\u001b[43m \u001b[49m\u001b[38;5;241;43m*\u001b[39;49m\u001b[38;5;28;43mself\u001b[39;49m\u001b[38;5;241;43m.\u001b[39;49m\u001b[43margs\u001b[49m\u001b[43m)\u001b[49m\n",
      "Cell \u001b[0;32mIn[21], line 9\u001b[0m, in \u001b[0;36mIq_cost\u001b[0;34m(x, return_qIq, *args)\u001b[0m\n\u001b[1;32m      7\u001b[0m _atom_positions_df \u001b[38;5;241m=\u001b[39m perturbed_atom_positions_df \u001b[38;5;241m+\u001b[39m _atom_positions_deltas\n\u001b[1;32m      8\u001b[0m _atom_distance_matrix_df \u001b[38;5;241m=\u001b[39m iqsq\u001b[38;5;241m.\u001b[39mbuild_atom_distance_matrix(_atom_positions_df)\n\u001b[0;32m----> 9\u001b[0m _qIq \u001b[38;5;241m=\u001b[39m \u001b[43miq_gpu_opt_2\u001b[49m\u001b[38;5;241;43m.\u001b[39;49m\u001b[43mcalculate_iq\u001b[49m\u001b[43m(\u001b[49m\n\u001b[1;32m     10\u001b[0m \u001b[43m    \u001b[49m\u001b[43mscattering_factors_df\u001b[49m\u001b[38;5;241;43m=\u001b[39;49m\u001b[43mscattering_factors_df\u001b[49m\u001b[43m,\u001b[49m\n\u001b[1;32m     11\u001b[0m \u001b[43m    \u001b[49m\u001b[43matom_distance_matrix_df\u001b[49m\u001b[38;5;241;43m=\u001b[39;49m\u001b[43m_atom_distance_matrix_df\u001b[49m\u001b[43m,\u001b[49m\n\u001b[1;32m     12\u001b[0m \u001b[43m    \u001b[49m\u001b[43mqmin\u001b[49m\u001b[38;5;241;43m=\u001b[39;49m\u001b[38;5;241;43m0.01\u001b[39;49m\u001b[43m,\u001b[49m\n\u001b[1;32m     13\u001b[0m \u001b[43m    \u001b[49m\u001b[43mqmax\u001b[49m\u001b[38;5;241;43m=\u001b[39;49m\u001b[38;5;241;43m30\u001b[39;49m\u001b[43m,\u001b[49m\n\u001b[1;32m     14\u001b[0m \u001b[43m    \u001b[49m\u001b[43mqstep\u001b[49m\u001b[38;5;241;43m=\u001b[39;49m\u001b[38;5;241;43m0.01\u001b[39;49m\n\u001b[1;32m     15\u001b[0m \u001b[43m\u001b[49m\u001b[43m)\u001b[49m\n\u001b[1;32m     17\u001b[0m cost \u001b[38;5;241m=\u001b[39m euclidean(np\u001b[38;5;241m.\u001b[39mlog(_qIq[:,\u001b[38;5;241m1\u001b[39m]), np\u001b[38;5;241m.\u001b[39mlog(qIq[:,\u001b[38;5;241m1\u001b[39m]))\n\u001b[1;32m     18\u001b[0m \u001b[38;5;66;03m#print(f\"Iq_cost: {cost}\")\u001b[39;00m\n",
      "File \u001b[0;32m~/project/iq-on-gpu/iqsq/iqsq/iq_gpu_opt_2.py:219\u001b[0m, in \u001b[0;36mcalculate_iq\u001b[0;34m(scattering_factors_df, atom_distance_matrix_df, qmin, qmax, qstep, gpu_dtype, verbose)\u001b[0m\n\u001b[1;32m    217\u001b[0m Iq_sum_list \u001b[38;5;241m=\u001b[39m []\n\u001b[1;32m    218\u001b[0m \u001b[38;5;28;01mfor\u001b[39;00m qi, (q, _q) \u001b[38;5;129;01min\u001b[39;00m \u001b[38;5;28menumerate\u001b[39m(\u001b[38;5;28mzip\u001b[39m(q_range, _q_range)):\n\u001b[0;32m--> 219\u001b[0m     _Fi \u001b[38;5;241m=\u001b[39m cp\u001b[38;5;241m.\u001b[39mexpand_dims(\u001b[43m_q_Fi\u001b[49m\u001b[43m[\u001b[49m\u001b[43m:\u001b[49m\u001b[43m,\u001b[49m\u001b[43m \u001b[49m\u001b[43mqi\u001b[49m\u001b[43m]\u001b[49m, axis\u001b[38;5;241m=\u001b[39m\u001b[38;5;241m1\u001b[39m)\n\u001b[1;32m    220\u001b[0m     \u001b[38;5;66;03m# print(f\"Fi.shape: {Fi.shape}\")\u001b[39;00m\n\u001b[1;32m    221\u001b[0m \n\u001b[1;32m    222\u001b[0m     \u001b[38;5;66;03m# print(np.shape(Fi))\u001b[39;00m\n\u001b[1;32m    223\u001b[0m     _FiFj \u001b[38;5;241m=\u001b[39m _Fi\u001b[38;5;241m.\u001b[39mT \u001b[38;5;241m*\u001b[39m _Fi\n",
      "File \u001b[0;32mcupy/_core/core.pyx:1526\u001b[0m, in \u001b[0;36mcupy._core.core._ndarray_base.__getitem__\u001b[0;34m()\u001b[0m\n",
      "File \u001b[0;32mcupy/_core/_routines_indexing.pyx:33\u001b[0m, in \u001b[0;36mcupy._core._routines_indexing._ndarray_getitem\u001b[0;34m()\u001b[0m\n",
      "File \u001b[0;32mcupy/_core/_routines_indexing.pyx:264\u001b[0m, in \u001b[0;36mcupy._core._routines_indexing._prepare_slice_list\u001b[0;34m()\u001b[0m\n",
      "File \u001b[0;32m~/miniconda3/envs/iqsq/lib/python3.10/site-packages/numpy/core/numeric.py:1859\u001b[0m, in \u001b[0;36misscalar\u001b[0;34m(element)\u001b[0m\n\u001b[1;32m   1855\u001b[0m \u001b[38;5;28;01mdef\u001b[39;00m \u001b[38;5;21m_frombuffer\u001b[39m(buf, dtype, shape, order):\n\u001b[1;32m   1856\u001b[0m     \u001b[38;5;28;01mreturn\u001b[39;00m frombuffer(buf, dtype\u001b[38;5;241m=\u001b[39mdtype)\u001b[38;5;241m.\u001b[39mreshape(shape, order\u001b[38;5;241m=\u001b[39morder)\n\u001b[0;32m-> 1859\u001b[0m \u001b[38;5;129m@set_module\u001b[39m(\u001b[38;5;124m'\u001b[39m\u001b[38;5;124mnumpy\u001b[39m\u001b[38;5;124m'\u001b[39m)\n\u001b[1;32m   1860\u001b[0m \u001b[38;5;28;01mdef\u001b[39;00m \u001b[38;5;21misscalar\u001b[39m(element):\n\u001b[1;32m   1861\u001b[0m \u001b[38;5;250m    \u001b[39m\u001b[38;5;124;03m\"\"\"\u001b[39;00m\n\u001b[1;32m   1862\u001b[0m \u001b[38;5;124;03m    Returns True if the type of `element` is a scalar type.\u001b[39;00m\n\u001b[1;32m   1863\u001b[0m \n\u001b[0;32m   (...)\u001b[0m\n\u001b[1;32m   1933\u001b[0m \n\u001b[1;32m   1934\u001b[0m \u001b[38;5;124;03m    \"\"\"\u001b[39;00m\n\u001b[1;32m   1935\u001b[0m     \u001b[38;5;28;01mreturn\u001b[39;00m (\u001b[38;5;28misinstance\u001b[39m(element, generic)\n\u001b[1;32m   1936\u001b[0m             \u001b[38;5;129;01mor\u001b[39;00m \u001b[38;5;28mtype\u001b[39m(element) \u001b[38;5;129;01min\u001b[39;00m ScalarType\n\u001b[1;32m   1937\u001b[0m             \u001b[38;5;129;01mor\u001b[39;00m \u001b[38;5;28misinstance\u001b[39m(element, numbers\u001b[38;5;241m.\u001b[39mNumber))\n",
      "\u001b[0;31mKeyboardInterrupt\u001b[0m: "
     ]
    }
   ],
   "source": [
    "from scipy.optimize import differential_evolution\n",
    "\n",
    "parameter_count = atom_positions_df.shape[0] * atom_positions_df.shape[1]\n",
    "print(f\"parameter count: {parameter_count}\")\n",
    "de_result = differential_evolution(\n",
    "    func=Iq_cost,\n",
    "    bounds=[(-0.25, 0.25) for i in range(parameter_count)],\n",
    "    popsize=2,\n",
    "    polish=False,\n",
    "    disp=True,\n",
    "    callback=display_best_cost,\n",
    "    maxiter=1000\n",
    ")"
   ]
  },
  {
   "cell_type": "code",
   "execution_count": null,
   "id": "f62227f8-67a1-4c31-b8e1-b09b753d7a38",
   "metadata": {},
   "outputs": [],
   "source": []
  },
  {
   "cell_type": "code",
   "execution_count": null,
   "id": "db80e1c1-d84c-47b9-8bdf-872d99472230",
   "metadata": {},
   "outputs": [],
   "source": [
    "de_result"
   ]
  },
  {
   "cell_type": "code",
   "execution_count": null,
   "id": "927ca50f-ee3b-412a-ba3c-c893c2347bf4",
   "metadata": {},
   "outputs": [],
   "source": [
    "atom_positions = atom_positions_df.to_numpy()\n",
    "de_position_offsets = np.reshape(de_result.x, atom_positions.shape)\n",
    "de_atom_positions = perturbed_atom_positions + de_position_offsets"
   ]
  },
  {
   "cell_type": "code",
   "execution_count": null,
   "id": "cdff9c83-3e98-4700-94f1-e738b71affdd",
   "metadata": {},
   "outputs": [],
   "source": [
    "plt.ion()"
   ]
  },
  {
   "cell_type": "code",
   "execution_count": null,
   "id": "84f6747b-46b5-48e5-bb59-1fa25f87a526",
   "metadata": {},
   "outputs": [],
   "source": [
    "def plot_Iq(_ax, _atom_distance_matrix_df):\n",
    "    _qIq = iq_gpu_opt_2.calculate_iq(\n",
    "        scattering_factors_df=scattering_factors_df,\n",
    "        atom_distance_matrix_df=_atom_distance_matrix_df,\n",
    "        qmin=0.01,\n",
    "        qmax=30,\n",
    "        qstep=0.01\n",
    "    )\n",
    "\n",
    "    _ax.plot(_qIq[:,0],np.log10(_qIq[:,1]))\n",
    "\n",
    "    return _qIq"
   ]
  },
  {
   "cell_type": "code",
   "execution_count": null,
   "id": "76c0ee0d-1871-4a7d-939e-38db7a5aa422",
   "metadata": {},
   "outputs": [],
   "source": [
    "perturbed_fig = plt.figure()\n",
    "a3 = perturbed_fig.add_subplot(2, 2, 1, projection='3d')\n",
    "a3.set_title(\"original and perturbed\\npositions\")\n",
    "a3.scatter(\n",
    "    perturbed_atom_positions[:, 0],\n",
    "    perturbed_atom_positions[:, 1],\n",
    "    perturbed_atom_positions[:, 2],\n",
    "    color='r'\n",
    ")\n",
    "a3.scatter(\n",
    "    atom_positions[:, 0],\n",
    "    atom_positions[:, 1],\n",
    "    atom_positions[:, 2],\n",
    "    color='g'\n",
    ")\n",
    "\n",
    "ax_Iq = perturbed_fig.add_subplot(2, 2, 3)\n",
    "perturbed_qIq = plot_Iq(ax_Iq, perturbed_atom_distance_matrix_df)\n",
    "original_qIq = plot_Iq(ax_Iq, atom_distance_matrix_df)\n",
    "ax_Iq.plot(perturbed_qIq[:, 0], np.log(perturbed_qIq[:, 1]) - np.log(original_qIq[:, 1]))\n",
    "\n",
    "de_a3 = perturbed_fig.add_subplot(2, 2, 2, projection='3d')\n",
    "de_a3.set_title(\"original and optimized\\npositions\")\n",
    "de_a3.scatter(\n",
    "    de_atom_positions[:, 0],\n",
    "    de_atom_positions[:, 1],\n",
    "    de_atom_positions[:, 2],\n",
    "    color='b'\n",
    ")\n",
    "de_a3.scatter(\n",
    "    atom_positions[:, 0],\n",
    "    atom_positions[:, 1],\n",
    "    atom_positions[:, 2],\n",
    "    color='g'\n",
    ")\n",
    "\n",
    "\n",
    "de_ax_Iq = perturbed_fig.add_subplot(2, 2, 4)\n",
    "\n",
    "de_atom_positions_df = perturbed_atom_positions_df + de_position_offsets\n",
    "de_atom_distance_matrix_df = iqsq.build_atom_distance_matrix(de_atom_positions_df)\n",
    "\n",
    "de_qIq = plot_Iq(de_ax_Iq, de_atom_distance_matrix_df)\n",
    "original_qIq = plot_Iq(de_ax_Iq, atom_distance_matrix_df)\n",
    "de_ax_Iq.plot(perturbed_qIq[:, 0], np.log(de_qIq[:, 1]) - np.log(original_qIq[:, 1]))\n"
   ]
  },
  {
   "cell_type": "code",
   "execution_count": null,
   "id": "5daebd72-4a63-4ff1-a51e-eb392dfa5022",
   "metadata": {},
   "outputs": [],
   "source": []
  }
 ],
 "metadata": {
  "kernelspec": {
   "display_name": "Python 3 (ipykernel)",
   "language": "python",
   "name": "python3"
  },
  "language_info": {
   "codemirror_mode": {
    "name": "ipython",
    "version": 3
   },
   "file_extension": ".py",
   "mimetype": "text/x-python",
   "name": "python",
   "nbconvert_exporter": "python",
   "pygments_lexer": "ipython3",
   "version": "3.10.11"
  }
 },
 "nbformat": 4,
 "nbformat_minor": 5
}
